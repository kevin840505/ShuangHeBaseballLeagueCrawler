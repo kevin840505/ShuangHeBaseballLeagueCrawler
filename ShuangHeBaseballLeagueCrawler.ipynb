{
  "nbformat": 4,
  "nbformat_minor": 0,
  "metadata": {
    "colab": {
      "name": "ShuangHeBaseballLeagueCrawler.ipynb",
      "provenance": [],
      "mount_file_id": "1ZVEM4XPlXnyI6RdjT6a5tkdpzUMMlbvR",
      "authorship_tag": "ABX9TyMedRm+lxfaKu9wlR4AaVBL",
      "include_colab_link": true
    },
    "kernelspec": {
      "name": "python3",
      "display_name": "Python 3"
    }
  },
  "cells": [
    {
      "cell_type": "markdown",
      "metadata": {
        "id": "view-in-github",
        "colab_type": "text"
      },
      "source": [
        "<a href=\"https://colab.research.google.com/github/kevin840505/ShuangHeBaseballLeagueCrawler/blob/main/ShuangHeBaseballLeagueCrawler.ipynb\" target=\"_parent\"><img src=\"https://colab.research.google.com/assets/colab-badge.svg\" alt=\"Open In Colab\"/></a>"
      ]
    },
    {
      "cell_type": "code",
      "metadata": {
        "id": "T9BbDVolxQM2"
      },
      "source": [
        "#抓紀錄單\r\n",
        "import requests\r\n",
        "from bs4 import BeautifulSoup\r\n",
        "import pandas as pd\r\n",
        "\r\n",
        "def get_raw_page(url):\r\n",
        "  session_requsets = requests.session()\r\n",
        "  response = session_requsets.get(url)\r\n",
        "  return response.text\r\n",
        "\r\n",
        "def get_raw_src(dom):\r\n",
        "  soup = BeautifulSoup(dom, 'html.parser')\r\n",
        "  elements = soup.find('iframe')\r\n",
        "  if elements != None:\r\n",
        "    src = elements.get('src')\r\n",
        "    return src\r\n",
        "\r\n",
        "def get_game_title(dom):\r\n",
        "  soup = BeautifulSoup(dom, 'html.parser')\r\n",
        "  elements = soup.find('iframe')\r\n",
        "  if elements != None:\r\n",
        "    title = elements.get('title')\r\n",
        "    return title\r\n",
        "\r\n",
        "def get_game_page(url):\r\n",
        "  session_requsets = requests.session()\r\n",
        "  response = session_requsets.get(url)\r\n",
        "  return response.text\r\n",
        "\r\n",
        "def get_sheet_src(dom):\r\n",
        "  soup = BeautifulSoup(dom, 'html.parser')\r\n",
        "  elements = soup.find('script').next_siblings\r\n",
        "  for element in elements:\r\n",
        "    ssrc = element.text\r\n",
        "    ssrc_previous = ssrc.find('紀錄單\", pageUrl: \"')\r\n",
        "    ssrc_forward = ssrc.find('\", gid: \"1774659249\"')\r\n",
        "    return ssrc[ssrc_previous+len('紀錄單\", pageUrl: \"'):ssrc_forward].replace('\\\\','')\r\n",
        "\r\n",
        "#def get_sheet_page(url):\r\n",
        "#  session_requsets = requests.session()\r\n",
        "#  response = session_requsets.get(url)\r\n",
        "#  return response.text\r\n",
        "\r\n",
        "def get_sheet_data(url):\r\n",
        "  dfs = pd.read_html(url,encoding='UTF-8',header=1)\r\n",
        "  return dfs[0]\r\n",
        "\r\n",
        "writer = pd.ExcelWriter('雙和聯盟C組S16紀錄單.xlsx')\r\n",
        "for i in range(1,100):\r\n",
        "  dom = get_raw_page('https://sites.google.com/site/xinbeishishuangheyizuyeqiu/mei-zhou-zhan-bao/16c'+\"%02d\"%i)\r\n",
        "  src = get_raw_src(dom)\r\n",
        "  if src != None:\r\n",
        "    #game_title = get_game_title(dom)\r\n",
        "    game_page = get_game_page(src)\r\n",
        "    sheet_src = get_sheet_src(game_page)\r\n",
        "    #sheet_page = get_sheet_page(sheet_src)\r\n",
        "    sheet_data = get_sheet_data(sheet_src)\r\n",
        "    sheet_data.to_excel(writer, sheet_name='G'+str(i), index=False, header=False)\r\n",
        "writer.save()"
      ],
      "execution_count": null,
      "outputs": []
    },
    {
      "cell_type": "code",
      "metadata": {
        "id": "Pchc4SB6a6N-",
        "colab": {
          "base_uri": "https://localhost:8080/"
        },
        "outputId": "e927b287-cf8f-42f7-eace-57269cdcc0ef"
      },
      "source": [
        "#抓先攻後攻(先攻後攻表比較多數據)\r\n",
        "import requests\r\n",
        "from bs4 import BeautifulSoup\r\n",
        "import pandas as pd\r\n",
        "\r\n",
        "def get_raw_page(url):\r\n",
        "  session_requsets = requests.session()\r\n",
        "  response = session_requsets.get(url)\r\n",
        "  return response.text\r\n",
        "\r\n",
        "def get_raw_src(dom):\r\n",
        "  soup = BeautifulSoup(dom, 'html.parser')\r\n",
        "  elements = soup.find('iframe')\r\n",
        "  if elements != None:\r\n",
        "    src = elements.get('src')\r\n",
        "    return src\r\n",
        "\r\n",
        "def get_game_page(url):\r\n",
        "  session_requsets = requests.session()\r\n",
        "  response = session_requsets.get(url)\r\n",
        "  return response.text\r\n",
        "\r\n",
        "def get_sheet_src(dom):\r\n",
        "  soup = BeautifulSoup(dom, 'html.parser')\r\n",
        "  elements = soup.find('script').next_siblings\r\n",
        "  for element in elements:\r\n",
        "    ssrc = element.text\r\n",
        "    ssrc_previous = ssrc.find('先攻\", pageUrl: \"')\r\n",
        "    ssrc_forward = ssrc.find('\", gid: \"1316925469\"')#先攻1316925469後攻1521201990\r\n",
        "    return ssrc[ssrc_previous+len('先攻\", pageUrl: \"'):ssrc_forward].replace('\\\\','')\r\n",
        "\r\n",
        "#def get_sheet_page(url):\r\n",
        "#  session_requsets = requests.session()\r\n",
        "#  response = session_requsets.get(url)\r\n",
        "#  return response.text\r\n",
        "\r\n",
        "def get_sheet_data(url):\r\n",
        "  dfs = pd.read_html(url,encoding='UTF-8',header=0)[0]\r\n",
        "  date = dfs.iloc[1,5]\r\n",
        "  dfs = dfs.drop(dfs.columns[0:6],axis= 1)\r\n",
        "  dfs = dfs.drop(dfs.columns[4:52],axis= 1)\r\n",
        "  dfs = dfs.drop(dfs.columns[22:],axis= 1)\r\n",
        "  dfs = dfs.drop(dfs.index[0:6],axis= 0)\r\n",
        "  dfs = dfs.drop(dfs.index[35:],axis= 0)\r\n",
        "  dfs = dfs.reset_index(drop= True)\r\n",
        "  dfs.columns = range(dfs.shape[1])\r\n",
        "  dfs['22'] = '日期'\r\n",
        "  dfs.iloc[1:, lambda df: [22]] = date\r\n",
        "  return dfs.iloc[[1]]\r\n",
        "\r\n",
        "writer = pd.ExcelWriter('20210114雙和聯盟C組S16_先攻.xlsx')\r\n",
        "data\r\n",
        "for i in range(1,3):\r\n",
        "  dom = get_raw_page('https://sites.google.com/site/xinbeishishuangheyizuyeqiu/mei-zhou-zhan-bao/16c'+\"%02d\"%i)\r\n",
        "  src = get_raw_src(dom)\r\n",
        "  if src != None:\r\n",
        "    game_page = get_game_page(src)\r\n",
        "    sheet_src = get_sheet_src(game_page)\r\n",
        "    sheet_data = get_sheet_data(sheet_src)\r\n",
        "    print(sheet_data)\r\n",
        "    #sheet_data.to_excel(writer, sheet_name='G'+str(i), index=False, header=False)\r\n",
        "#writer.save()"
      ],
      "execution_count": null,
      "outputs": [
        {
          "output_type": "stream",
          "text": [
            "    0    1   2  3  4  5  6  7  8  9  ... 13 14 15 16 17 18 19 20 21          22\n",
            "1  RF  韋清俊  51  1  2  2  0  0  0  0  ...  0  0  0  0  0  1  0  0  0  2020/12/12\n",
            "\n",
            "[1 rows x 23 columns]\n",
            "    0    1   2  3  4  5  6  7  8  9  ... 13 14 15 16 17 18 19 20 21          22\n",
            "1  CF  林浩平  68  1  2  2  0  1  1  0  ...  0  0  0  0  0  0  2  0  0  2020/11/22\n",
            "\n",
            "[1 rows x 23 columns]\n"
          ],
          "name": "stdout"
        }
      ]
    }
  ]
}